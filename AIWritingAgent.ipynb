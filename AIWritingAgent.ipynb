{
 "cells": [
  {
   "cell_type": "code",
   "execution_count": null,
   "id": "6956dfbd-dfeb-4408-859e-e00af719e1bc",
   "metadata": {},
   "outputs": [],
   "source": [
    "import asyncio\n",
    "from typing import Sequence\n",
    "\n",
    "from autogen_agentchat.agents import BaseChatAgent, AssistantAgent\n",
    "from autogen_agentchat.base import Response\n",
    "from autogen_agentchat.messages import TextMessage, BaseChatMessage, BaseAgentEvent, HandoffMessage\n",
    "from autogen_agentchat.teams import Swarm\n",
    "from autogen_agentchat.conditions import HandoffTermination, TextMentionTermination\n",
    "from autogen_agentchat.ui import Console\n",
    "from autogen_ext.models.openai import OpenAIChatCompletionClient\n",
    "from autogen_core import CancellationToken"
   ]
  },
  {
   "cell_type": "code",
   "execution_count": null,
   "id": "e0faab61-bf0b-4a37-8e1e-53a2213900c8",
   "metadata": {},
   "outputs": [],
   "source": [
    "class PlannerAgent(BaseChatAgent):\n",
    "    def __init__(self):\n",
    "        super().__init__(name=\"planner\", description=\"Creates writing outline.\")\n",
    "\n",
    "    @property\n",
    "    def produced_message_types(self) -> Sequence[type[BaseChatMessage]]:\n",
    "        return (TextMessage,)\n",
    "\n",
    "    async def on_messages(self, messages, cancellation_token: CancellationToken) -> Response:\n",
    "        topic = messages[-1].content if messages else \"unspecified topic\"\n",
    "        outline = (\n",
    "            f\"Here's an outline for a blog post on **{topic}**:\\n\\n\"\n",
    "            \"- Introduction\\n\"\n",
    "            \"- Background\\n\"\n",
    "            \"- Key Insights\\n\"\n",
    "            \"- Challenges\\n\"\n",
    "            \"- Conclusion\\n\"\n",
    "            \"\\nI'll hand this off to the writer.\"\n",
    "        )\n",
    "        return Response(\n",
    "            chat_message=TextMessage(content=outline, source=self.name),\n",
    "            inner_messages=[\n",
    "                HandoffMessage(content=\"Ready to write based on this outline.\", source=self.name, target=\"writer\")\n",
    "            ]\n",
    "        )\n",
    "\n",
    "    async def on_reset(self, cancellation_token: CancellationToken) -> None:\n",
    "        pass\n"
   ]
  },
  {
   "cell_type": "code",
   "execution_count": null,
   "id": "5ca312ed-a0d9-415d-8f05-87df54a4d211",
   "metadata": {},
   "outputs": [],
   "source": [
    "class WriterAgent(BaseChatAgent):\n",
    "    def __init__(self):\n",
    "        super().__init__(name=\"writer\", description=\"Writes content from outline.\")\n",
    "\n",
    "    @property\n",
    "    def produced_message_types(self) -> Sequence[type[BaseChatMessage]]:\n",
    "        return (TextMessage,)\n",
    "\n",
    "    async def on_messages(self, messages, cancellation_token: CancellationToken) -> Response:\n",
    "        outline = messages[-1].content\n",
    "        body = (\n",
    "            \"Here's a draft based on the outline:\\n\\n\"\n",
    "            \"**Introduction:** AI is transforming the education sector...\\n\\n\"\n",
    "            \"**Background:** Traditionally, learning was limited to...\\n\\n\"\n",
    "            \"**Key Insights:** Personalized learning paths and instant feedback...\\n\\n\"\n",
    "            \"**Challenges:** Equity, bias, and teacher roles must be considered...\\n\\n\"\n",
    "            \"**Conclusion:** With careful adoption, AI can enhance learning at scale.\\n\"\n",
    "        )\n",
    "        return Response(chat_message=TextMessage(content=body, source=self.name))\n",
    "\n",
    "    async def on_reset(self, cancellation_token: CancellationToken) -> None:\n",
    "        pass\n"
   ]
  },
  {
   "cell_type": "code",
   "execution_count": null,
   "id": "365f9c80-9d5c-453f-97ba-89fec827528e",
   "metadata": {},
   "outputs": [],
   "source": [
    "async def run_writing_team():\n",
    "    model_client = OpenAIChatCompletionClient(model=\"gpt-4o\")\n",
    "\n",
    "    # You can use AssistantAgent here instead of custom ones if needed\n",
    "    planner = PlannerAgent()\n",
    "    writer = WriterAgent()\n",
    "\n",
    "    # Terminate after planner hands off to writer and writer responds\n",
    "    termination = TextMentionTermination(\"Conclusion\") | HandoffTermination(\"writer\")\n",
    "\n",
    "    team = Swarm(participants=[planner, writer], termination_condition=termination)\n",
    "\n",
    "    # Run the team on a writing topic\n",
    "    task = \"The impact of AI on education\"\n",
    "    await Console(team.run_stream(task=task))\n",
    "\n",
    "    await model_client.close()\n",
    "\n",
    "await run_writing_team()\n"
   ]
  }
 ],
 "metadata": {
  "kernelspec": {
   "display_name": "Python 3 (ipykernel)",
   "language": "python",
   "name": "python3"
  },
  "language_info": {
   "codemirror_mode": {
    "name": "ipython",
    "version": 3
   },
   "file_extension": ".py",
   "mimetype": "text/x-python",
   "name": "python",
   "nbconvert_exporter": "python",
   "pygments_lexer": "ipython3",
   "version": "3.13.5"
  }
 },
 "nbformat": 4,
 "nbformat_minor": 5
}
